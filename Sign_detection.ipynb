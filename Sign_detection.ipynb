{
 "cells": [
  {
   "cell_type": "code",
   "execution_count": null,
   "metadata": {
    "colab": {
     "base_uri": "https://localhost:8080/"
    },
    "id": "PEDUk6k8RdQS",
    "outputId": "407b6522-1f37-4d27-bc62-02e9ad247f81"
   },
   "outputs": [
    {
     "name": "stdout",
     "output_type": "stream",
     "text": [
      "Downloading asl-alphabet.zip to /content\n",
      "100% 1.02G/1.03G [00:22<00:00, 43.1MB/s]\n",
      "100% 1.03G/1.03G [00:23<00:00, 47.8MB/s]\n"
     ]
    }
   ],
   "source": [
    "import os \n",
    "! kaggle datasets download -d grassknoted/asl-alphabet"
   ]
  },
  {
   "cell_type": "code",
   "execution_count": null,
   "metadata": {
    "id": "tdsyLHneyMzD"
   },
   "outputs": [],
   "source": [
    "import zipfile\n",
    "zip=zipfile.ZipFile('/content/asl-alphabet.zip')\n",
    "\n",
    "zip.extractall()\n",
    "zip.close()"
   ]
  },
  {
   "cell_type": "code",
   "execution_count": null,
   "metadata": {
    "id": "TCnzkD4LTDbW"
   },
   "outputs": [],
   "source": [
    "import tensorflow as tf\n",
    "from tensorflow.keras.layers import Conv2D,Flatten,Dense,MaxPooling2D,MaxPool2D,Dropout,BatchNormalization\n",
    "from tensorflow.keras.preprocessing import image_dataset_from_directory\n",
    "from tensorflow.keras.models import Sequential\n",
    "#tf.keras.layers.Dense()"
   ]
  },
  {
   "cell_type": "code",
   "execution_count": null,
   "metadata": {
    "colab": {
     "base_uri": "https://localhost:8080/"
    },
    "id": "-qxQN9vfeLNR",
    "outputId": "38a91468-26ea-4297-ee79-4bde4a576938"
   },
   "outputs": [
    {
     "name": "stdout",
     "output_type": "stream",
     "text": [
      "Found 87000 files belonging to 29 classes.\n",
      "Using 69600 files for training.\n",
      "Found 87000 files belonging to 29 classes.\n",
      "Using 17400 files for validation.\n"
     ]
    }
   ],
   "source": [
    "train=image_dataset_from_directory('asl_alphabet_train/asl_alphabet_train',\n",
    "                                   label_mode='categorical',\n",
    "                                   image_size=(224,224),\n",
    "                                   seed=42,\n",
    "                                   validation_split=0.2, \n",
    "                                   subset='training')\n",
    "test=image_dataset_from_directory('asl_alphabet_train/asl_alphabet_train',\n",
    "                                   label_mode='categorical',\n",
    "                                   image_size=(224,224),\n",
    "                                   seed=42,\n",
    "                                  validation_split=0.2, \n",
    "                                  subset='validation')"
   ]
  },
  {
   "cell_type": "code",
   "execution_count": null,
   "metadata": {
    "id": "Hpw_w0tPTgbr"
   },
   "outputs": [],
   "source": [
    "model=Sequential([\n",
    "    Conv2D(16,3,activation='relu',input_shape=(224,224,3)),\n",
    "    MaxPool2D(),\n",
    "    Conv2D(32,3,activation='relu'),\n",
    "    MaxPool2D(),\n",
    "    Conv2D(32,3,activation='relu'),\n",
    "    MaxPool2D(),\n",
    "    Conv2D(64,3,activation='relu'),\n",
    "    MaxPool2D(),\n",
    "\n",
    "    Flatten(),\n",
    "    Dense(128,activation='relu'),\n",
    "    Dense(64,activation='relu'),\n",
    "    Dense(29,activation='softmax')\n",
    "    \n",
    "])\n",
    "\n",
    "model.compile(loss=tf.keras.losses.CategoricalCrossentropy(),\n",
    "                optimizer=tf.keras.optimizers.Adagrad(),\n",
    "                metrics=['accuracy'])"
   ]
  },
  {
   "cell_type": "code",
   "execution_count": null,
   "metadata": {
    "colab": {
     "base_uri": "https://localhost:8080/"
    },
    "id": "rP5x_aYwVtTV",
    "outputId": "e7cd6647-e2d7-491f-a6e4-d6de18749d32"
   },
   "outputs": [
    {
     "name": "stdout",
     "output_type": "stream",
     "text": [
      "Epoch 1/10\n",
      "2175/2175 [==============================] - 146s 67ms/step - loss: 2.4313 - accuracy: 0.3185 - val_loss: 1.4176 - val_accuracy: 0.5972\n",
      "Epoch 2/10\n",
      "2175/2175 [==============================] - 145s 66ms/step - loss: 0.9598 - accuracy: 0.7146 - val_loss: 0.7315 - val_accuracy: 0.7932\n",
      "Epoch 3/10\n",
      "2175/2175 [==============================] - 145s 67ms/step - loss: 0.5191 - accuracy: 0.8498 - val_loss: 0.4874 - val_accuracy: 0.8517\n",
      "Epoch 4/10\n",
      "2175/2175 [==============================] - 146s 67ms/step - loss: 0.3320 - accuracy: 0.9065 - val_loss: 0.3663 - val_accuracy: 0.8909\n",
      "Epoch 5/10\n",
      "2175/2175 [==============================] - 145s 67ms/step - loss: 0.2307 - accuracy: 0.9378 - val_loss: 0.2620 - val_accuracy: 0.9290\n",
      "Epoch 6/10\n",
      "2175/2175 [==============================] - 146s 67ms/step - loss: 0.1676 - accuracy: 0.9576 - val_loss: 0.2249 - val_accuracy: 0.9312\n",
      "Epoch 7/10\n",
      "2175/2175 [==============================] - 146s 67ms/step - loss: 0.1271 - accuracy: 0.9695 - val_loss: 0.1688 - val_accuracy: 0.9551\n",
      "Epoch 8/10\n",
      "2175/2175 [==============================] - 146s 67ms/step - loss: 0.0991 - accuracy: 0.9782 - val_loss: 0.1375 - val_accuracy: 0.9636\n",
      "Epoch 9/10\n",
      "2175/2175 [==============================] - 146s 67ms/step - loss: 0.0789 - accuracy: 0.9835 - val_loss: 0.1274 - val_accuracy: 0.9653\n",
      "Epoch 10/10\n",
      "2175/2175 [==============================] - 145s 66ms/step - loss: 0.0640 - accuracy: 0.9873 - val_loss: 0.1084 - val_accuracy: 0.9682\n"
     ]
    },
    {
     "data": {
      "text/plain": [
       "<keras.callbacks.History at 0x7ff3c928d190>"
      ]
     },
     "execution_count": 40,
     "metadata": {},
     "output_type": "execute_result"
    }
   ],
   "source": [
    "model.fit(train,epochs=10,\n",
    "          steps_per_epoch=(len(train)),\n",
    "          validation_data=test,\n",
    "          validation_steps=(0.1*len(test)))"
   ]
  },
  {
   "cell_type": "code",
   "execution_count": null,
   "metadata": {
    "colab": {
     "base_uri": "https://localhost:8080/"
    },
    "id": "IhHFk9e-line",
    "outputId": "a44ee8dd-f063-47c3-907b-e3e8c8380277"
   },
   "outputs": [
    {
     "name": "stdout",
     "output_type": "stream",
     "text": [
      "544/544 [==============================] - 27s 49ms/step - loss: 0.0909 - accuracy: 0.9760\n"
     ]
    },
    {
     "data": {
      "text/plain": [
       "[0.09087515622377396, 0.9760344624519348]"
      ]
     },
     "execution_count": 41,
     "metadata": {},
     "output_type": "execute_result"
    }
   ],
   "source": [
    "model.evaluate(test)"
   ]
  },
  {
   "cell_type": "code",
   "execution_count": null,
   "metadata": {
    "colab": {
     "base_uri": "https://localhost:8080/"
    },
    "id": "HZwovXtGZpds",
    "outputId": "d7478f49-6b73-4f85-95ee-47404cfa1a43"
   },
   "outputs": [
    {
     "name": "stdout",
     "output_type": "stream",
     "text": [
      "Found 29 files belonging to 29 classes.\n",
      "1/1 [==============================] - 0s 89ms/step - loss: 18.7238 - accuracy: 0.4828\n"
     ]
    },
    {
     "data": {
      "text/plain": [
       "[18.723796844482422, 0.48275861144065857]"
      ]
     },
     "execution_count": 21,
     "metadata": {},
     "output_type": "execute_result"
    }
   ],
   "source": [
    "te=image_dataset_from_directory('test/asl_alphabet_test',\n",
    "                                   label_mode='categorical',\n",
    "                                   image_size=(224,224),\n",
    "                                   seed=42)\n",
    "model.evaluate(te)"
   ]
  },
  {
   "cell_type": "code",
   "execution_count": null,
   "metadata": {
    "id": "ERpQHtGYwvdB"
   },
   "outputs": [],
   "source": [
    "model.save('sign_images.h5')"
   ]
  },
  {
   "cell_type": "code",
   "execution_count": null,
   "metadata": {
    "id": "am7DpOCRIU6p"
   },
   "outputs": [],
   "source": [
    "preprocess=Sequential([\n",
    "      tf.keras.layers.experimental.preprocessing.Rescaling(1./255)\n",
    "])"
   ]
  },
  {
   "cell_type": "code",
   "execution_count": null,
   "metadata": {
    "id": "FirQt0vULej4"
   },
   "outputs": [],
   "source": [
    "import tensorflow as tf"
   ]
  },
  {
   "cell_type": "code",
   "execution_count": null,
   "metadata": {
    "id": "P--xSPTE0b1S"
   },
   "outputs": [],
   "source": [
    "import tensorflow as tf\n",
    "base=tf.keras.applications.InceptionResNetV2(include_top=False)\n",
    "base.trainable=False\n",
    "inputs=tf.keras.layers.Input(shape=(224,224,3))\n",
    "x=preprocess(inputs)\n",
    "x=base(x,training=False)\n",
    "\n",
    "x=tf.keras.layers.GlobalAvgPool2D()(x)\n",
    "output=tf.keras.layers.Dense(29,activation='softmax')(x)\n",
    "model1=tf.keras.Model(inputs,output)"
   ]
  },
  {
   "cell_type": "code",
   "execution_count": null,
   "metadata": {
    "colab": {
     "base_uri": "https://localhost:8080/"
    },
    "id": "37mM6ym4z9vF",
    "outputId": "218da733-01df-4856-d8fe-7beae43ee4f7"
   },
   "outputs": [
    {
     "name": "stdout",
     "output_type": "stream",
     "text": [
      "Epoch 1/5\n",
      "217/217 [==============================] - 123s 509ms/step - loss: 1.9044 - accuracy: 0.4994 - val_loss: 1.1360 - val_accuracy: 0.7284\n",
      "Epoch 2/5\n",
      "217/217 [==============================] - 107s 495ms/step - loss: 0.9556 - accuracy: 0.7729 - val_loss: 0.7494 - val_accuracy: 0.8335\n",
      "Epoch 3/5\n",
      "217/217 [==============================] - 108s 495ms/step - loss: 0.6868 - accuracy: 0.8438 - val_loss: 0.5720 - val_accuracy: 0.8744\n",
      "Epoch 4/5\n",
      "217/217 [==============================] - 107s 494ms/step - loss: 0.5481 - accuracy: 0.8727 - val_loss: 0.4878 - val_accuracy: 0.8858\n",
      "Epoch 5/5\n",
      "217/217 [==============================] - 108s 495ms/step - loss: 0.4621 - accuracy: 0.8925 - val_loss: 0.3966 - val_accuracy: 0.9045\n"
     ]
    }
   ],
   "source": [
    "model1.compile(loss=tf.keras.losses.CategoricalCrossentropy(),\n",
    "                optimizer=tf.keras.optimizers.Adam(),\n",
    "                metrics=['accuracy'])\n",
    "\n",
    "history=model1.fit(train,epochs=5,\n",
    "          steps_per_epoch=(0.1*len(train)),\n",
    "          validation_data=test,\n",
    "          validation_steps=(0.1*len(test)))\n"
   ]
  },
  {
   "cell_type": "code",
   "execution_count": null,
   "metadata": {
    "id": "5P2KLZP7OLy1"
   },
   "outputs": [],
   "source": [
    "model1.save('transfer_asl.h5')"
   ]
  },
  {
   "cell_type": "code",
   "execution_count": null,
   "metadata": {
    "colab": {
     "base_uri": "https://localhost:8080/"
    },
    "id": "PfIRPh62PLcr",
    "outputId": "6ff77d11-7097-442e-bffa-0d3e1432883b"
   },
   "outputs": [
    {
     "name": "stderr",
     "output_type": "stream",
     "text": [
      "/usr/local/lib/python3.7/dist-packages/keras/optimizer_v2/adam.py:105: UserWarning: The `lr` argument is deprecated, use `learning_rate` instead.\n",
      "  super(Adam, self).__init__(name, **kwargs)\n"
     ]
    }
   ],
   "source": [
    "base.trainable = True\n",
    "\n",
    "# Freeze all layers except for the\n",
    "for layer in base.layers[:-10]:\n",
    "  layer.trainable = False\n",
    "\n",
    "# Recompile the model (always recompile after any adjustments to a model)\n",
    "model1.compile(loss=\"categorical_crossentropy\",\n",
    "              optimizer=tf.keras.optimizers.Adam(lr=0.0001), # lr is 10x lower than before for fine-tuning\n",
    "              metrics=[\"accuracy\"])"
   ]
  },
  {
   "cell_type": "code",
   "execution_count": null,
   "metadata": {
    "colab": {
     "base_uri": "https://localhost:8080/"
    },
    "id": "yKOtbpQiPbhp",
    "outputId": "d4eaadd9-5507-470e-dee8-c725562e322f"
   },
   "outputs": [
    {
     "name": "stdout",
     "output_type": "stream",
     "text": [
      "Epoch 5/10\n",
      "217/217 [==============================] - 177s 664ms/step - loss: 0.2348 - accuracy: 0.9365 - val_loss: 0.1804 - val_accuracy: 0.9508\n",
      "Epoch 6/10\n",
      "217/217 [==============================] - 141s 647ms/step - loss: 0.1295 - accuracy: 0.9680 - val_loss: 0.0894 - val_accuracy: 0.9786\n",
      "Epoch 7/10\n",
      "217/217 [==============================] - 141s 648ms/step - loss: 0.0852 - accuracy: 0.9786 - val_loss: 0.0667 - val_accuracy: 0.9853\n",
      "Epoch 8/10\n",
      "217/217 [==============================] - 140s 647ms/step - loss: 0.0692 - accuracy: 0.9837 - val_loss: 0.0567 - val_accuracy: 0.9862\n",
      "Epoch 9/10\n",
      "217/217 [==============================] - 140s 646ms/step - loss: 0.0663 - accuracy: 0.9834 - val_loss: 0.0535 - val_accuracy: 0.9855\n",
      "Epoch 10/10\n",
      "217/217 [==============================] - 141s 647ms/step - loss: 0.0517 - accuracy: 0.9860 - val_loss: 0.0395 - val_accuracy: 0.9908\n"
     ]
    }
   ],
   "source": [
    "fine_tune_epochs = 5 + 5\n",
    "\n",
    "# Refit the model (same as model_2 except with more trainable layers)\n",
    "history_fine_10_percent_data_aug = model1.fit(train,\n",
    "                                               epochs=fine_tune_epochs,\n",
    "                                               steps_per_epoch=(0.1*(len(train))),\n",
    "                                               validation_data=test,\n",
    "                                               initial_epoch=history.epoch[-1], # start from previous last epoch\n",
    "                                               validation_steps=int(0.25 * len(test)))"
   ]
  },
  {
   "cell_type": "code",
   "execution_count": null,
   "metadata": {
    "id": "pjaUMP6-RxsW"
   },
   "outputs": [],
   "source": [
    "model1.save('asl_transfer.h5')"
   ]
  }
 ],
 "metadata": {
  "accelerator": "GPU",
  "colab": {
   "collapsed_sections": [],
   "name": "Sign_detection.ipynb",
   "provenance": []
  },
  "kernelspec": {
   "display_name": "Python 3",
   "language": "python",
   "name": "python3"
  },
  "language_info": {
   "codemirror_mode": {
    "name": "ipython",
    "version": 3
   },
   "file_extension": ".py",
   "mimetype": "text/x-python",
   "name": "python",
   "nbconvert_exporter": "python",
   "pygments_lexer": "ipython3",
   "version": "3.8.3"
  }
 },
 "nbformat": 4,
 "nbformat_minor": 1
}
